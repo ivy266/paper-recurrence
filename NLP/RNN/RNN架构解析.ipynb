{
 "cells": [
  {
   "cell_type": "code",
   "execution_count": 1,
   "metadata": {
    "collapsed": true
   },
   "outputs": [
    {
     "name": "stdout",
     "output_type": "stream",
     "text": [
      "tensor([[[ 0.3399,  0.9685, -0.2923, -0.9219,  0.6836,  0.7950],\n",
      "         [-0.4000, -0.5665,  0.5513,  0.8219, -0.9181,  0.9251],\n",
      "         [ 0.3420,  0.3510,  0.5558, -0.7930,  0.6037,  0.0416]]],\n",
      "       grad_fn=<StackBackward>)\n"
     ]
    }
   ],
   "source": [
    "import torch\n",
    "import torch.nn as nn\n",
    "rnn = nn.RNN(5, 6, 1)\n",
    "input = torch.randn(1, 3, 5)\n",
    "h0 = torch.randn(1, 3, 6)\n",
    "\n",
    "\n",
    "output, hn = rnn(input, h0)\n",
    "print(output)"
   ]
  }
 ],
 "metadata": {
  "kernelspec": {
   "display_name": "Python 3",
   "language": "python",
   "name": "python3"
  },
  "language_info": {
   "codemirror_mode": {
    "name": "ipython",
    "version": 2
   },
   "file_extension": ".py",
   "mimetype": "text/x-python",
   "name": "python",
   "nbconvert_exporter": "python",
   "pygments_lexer": "ipython2",
   "version": "2.7.6"
  }
 },
 "nbformat": 4,
 "nbformat_minor": 0
}